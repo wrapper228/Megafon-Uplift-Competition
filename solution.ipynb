{
 "cells": [
  {
   "cell_type": "markdown",
   "id": "b7873395",
   "metadata": {},
   "source": [
    "#  [MegaFon Uplift Competition](https://ods.ai/competitions/megafon-df21-comp)"
   ]
  },
  {
   "cell_type": "markdown",
   "id": "dc1ecb1a",
   "metadata": {},
   "source": [
    "Результат: Qini коэффициент 0.69 на отложенной выборке"
   ]
  },
  {
   "cell_type": "markdown",
   "id": "495aa8e7",
   "metadata": {},
   "source": [
    "## задача №1: предсказать аплифт по вектору признаков абонента"
   ]
  },
  {
   "cell_type": "code",
   "execution_count": 1,
   "id": "6b3b8783",
   "metadata": {},
   "outputs": [],
   "source": [
    "import pandas as pd\n",
    "import numpy as np\n",
    "\n",
    "from sklearn.model_selection import GridSearchCV, train_test_split\n",
    "from catboost import CatBoostClassifier\n",
    "from sklift.models import SoloModel\n",
    "from sklift.viz import plot_qini_curve\n",
    "from sklift.metrics import qini_auc_score"
   ]
  },
  {
   "cell_type": "code",
   "execution_count": 2,
   "id": "0d48544f",
   "metadata": {},
   "outputs": [
    {
     "data": {
      "text/html": [
       "<div>\n",
       "<style scoped>\n",
       "    .dataframe tbody tr th:only-of-type {\n",
       "        vertical-align: middle;\n",
       "    }\n",
       "\n",
       "    .dataframe tbody tr th {\n",
       "        vertical-align: top;\n",
       "    }\n",
       "\n",
       "    .dataframe thead th {\n",
       "        text-align: right;\n",
       "    }\n",
       "</style>\n",
       "<table border=\"1\" class=\"dataframe\">\n",
       "  <thead>\n",
       "    <tr style=\"text-align: right;\">\n",
       "      <th></th>\n",
       "      <th>id</th>\n",
       "      <th>treatment_group</th>\n",
       "      <th>X_1</th>\n",
       "      <th>X_2</th>\n",
       "      <th>X_3</th>\n",
       "      <th>X_4</th>\n",
       "      <th>X_5</th>\n",
       "      <th>X_6</th>\n",
       "      <th>X_7</th>\n",
       "      <th>X_8</th>\n",
       "      <th>...</th>\n",
       "      <th>X_42</th>\n",
       "      <th>X_43</th>\n",
       "      <th>X_44</th>\n",
       "      <th>X_45</th>\n",
       "      <th>X_46</th>\n",
       "      <th>X_47</th>\n",
       "      <th>X_48</th>\n",
       "      <th>X_49</th>\n",
       "      <th>X_50</th>\n",
       "      <th>conversion</th>\n",
       "    </tr>\n",
       "  </thead>\n",
       "  <tbody>\n",
       "    <tr>\n",
       "      <th>0</th>\n",
       "      <td>0</td>\n",
       "      <td>control</td>\n",
       "      <td>39.396577</td>\n",
       "      <td>-0.186548</td>\n",
       "      <td>19.524505</td>\n",
       "      <td>21.250208</td>\n",
       "      <td>55.291264</td>\n",
       "      <td>182.966712</td>\n",
       "      <td>-5.385606</td>\n",
       "      <td>144.573379</td>\n",
       "      <td>...</td>\n",
       "      <td>134.363458</td>\n",
       "      <td>-213.584582</td>\n",
       "      <td>-2.092461</td>\n",
       "      <td>-93.973258</td>\n",
       "      <td>-0.155597</td>\n",
       "      <td>-312.130733</td>\n",
       "      <td>44.798182</td>\n",
       "      <td>-125.682413</td>\n",
       "      <td>16.231365</td>\n",
       "      <td>0</td>\n",
       "    </tr>\n",
       "    <tr>\n",
       "      <th>1</th>\n",
       "      <td>1</td>\n",
       "      <td>control</td>\n",
       "      <td>38.987694</td>\n",
       "      <td>0.819522</td>\n",
       "      <td>-42.064512</td>\n",
       "      <td>-48.270949</td>\n",
       "      <td>-33.171257</td>\n",
       "      <td>179.459341</td>\n",
       "      <td>-87.151810</td>\n",
       "      <td>-162.693257</td>\n",
       "      <td>...</td>\n",
       "      <td>72.864779</td>\n",
       "      <td>559.783584</td>\n",
       "      <td>1.142391</td>\n",
       "      <td>80.037124</td>\n",
       "      <td>-1.216185</td>\n",
       "      <td>-111.473936</td>\n",
       "      <td>-127.737977</td>\n",
       "      <td>-117.501171</td>\n",
       "      <td>10.732234</td>\n",
       "      <td>0</td>\n",
       "    </tr>\n",
       "    <tr>\n",
       "      <th>2</th>\n",
       "      <td>2</td>\n",
       "      <td>treatment</td>\n",
       "      <td>-16.693093</td>\n",
       "      <td>1.844558</td>\n",
       "      <td>-8.615192</td>\n",
       "      <td>-18.818740</td>\n",
       "      <td>-22.271188</td>\n",
       "      <td>-116.290369</td>\n",
       "      <td>-63.816746</td>\n",
       "      <td>-38.340763</td>\n",
       "      <td>...</td>\n",
       "      <td>2.480242</td>\n",
       "      <td>96.998504</td>\n",
       "      <td>1.100962</td>\n",
       "      <td>-33.275159</td>\n",
       "      <td>0.920926</td>\n",
       "      <td>-679.492242</td>\n",
       "      <td>-91.009397</td>\n",
       "      <td>-18.173358</td>\n",
       "      <td>14.367636</td>\n",
       "      <td>0</td>\n",
       "    </tr>\n",
       "    <tr>\n",
       "      <th>3</th>\n",
       "      <td>3</td>\n",
       "      <td>treatment</td>\n",
       "      <td>-72.040154</td>\n",
       "      <td>-0.226921</td>\n",
       "      <td>39.802607</td>\n",
       "      <td>16.441262</td>\n",
       "      <td>-1.112509</td>\n",
       "      <td>68.128008</td>\n",
       "      <td>23.073147</td>\n",
       "      <td>4.688858</td>\n",
       "      <td>...</td>\n",
       "      <td>83.951551</td>\n",
       "      <td>-323.642557</td>\n",
       "      <td>-0.369182</td>\n",
       "      <td>93.221948</td>\n",
       "      <td>-1.962380</td>\n",
       "      <td>-442.466684</td>\n",
       "      <td>-22.298302</td>\n",
       "      <td>-75.916603</td>\n",
       "      <td>11.634299</td>\n",
       "      <td>0</td>\n",
       "    </tr>\n",
       "    <tr>\n",
       "      <th>4</th>\n",
       "      <td>4</td>\n",
       "      <td>treatment</td>\n",
       "      <td>18.296973</td>\n",
       "      <td>0.996437</td>\n",
       "      <td>24.465307</td>\n",
       "      <td>-34.151971</td>\n",
       "      <td>24.623458</td>\n",
       "      <td>-155.455558</td>\n",
       "      <td>-12.159787</td>\n",
       "      <td>26.705778</td>\n",
       "      <td>...</td>\n",
       "      <td>-208.531112</td>\n",
       "      <td>118.902324</td>\n",
       "      <td>-0.808578</td>\n",
       "      <td>-117.497906</td>\n",
       "      <td>1.770635</td>\n",
       "      <td>627.395611</td>\n",
       "      <td>122.019189</td>\n",
       "      <td>194.091195</td>\n",
       "      <td>-11.883858</td>\n",
       "      <td>0</td>\n",
       "    </tr>\n",
       "  </tbody>\n",
       "</table>\n",
       "<p>5 rows × 53 columns</p>\n",
       "</div>"
      ],
      "text/plain": [
       "   id treatment_group        X_1       X_2        X_3        X_4        X_5  \\\n",
       "0   0         control  39.396577 -0.186548  19.524505  21.250208  55.291264   \n",
       "1   1         control  38.987694  0.819522 -42.064512 -48.270949 -33.171257   \n",
       "2   2       treatment -16.693093  1.844558  -8.615192 -18.818740 -22.271188   \n",
       "3   3       treatment -72.040154 -0.226921  39.802607  16.441262  -1.112509   \n",
       "4   4       treatment  18.296973  0.996437  24.465307 -34.151971  24.623458   \n",
       "\n",
       "          X_6        X_7         X_8  ...        X_42        X_43      X_44  \\\n",
       "0  182.966712  -5.385606  144.573379  ...  134.363458 -213.584582 -2.092461   \n",
       "1  179.459341 -87.151810 -162.693257  ...   72.864779  559.783584  1.142391   \n",
       "2 -116.290369 -63.816746  -38.340763  ...    2.480242   96.998504  1.100962   \n",
       "3   68.128008  23.073147    4.688858  ...   83.951551 -323.642557 -0.369182   \n",
       "4 -155.455558 -12.159787   26.705778  ... -208.531112  118.902324 -0.808578   \n",
       "\n",
       "         X_45      X_46        X_47        X_48        X_49       X_50  \\\n",
       "0  -93.973258 -0.155597 -312.130733   44.798182 -125.682413  16.231365   \n",
       "1   80.037124 -1.216185 -111.473936 -127.737977 -117.501171  10.732234   \n",
       "2  -33.275159  0.920926 -679.492242  -91.009397  -18.173358  14.367636   \n",
       "3   93.221948 -1.962380 -442.466684  -22.298302  -75.916603  11.634299   \n",
       "4 -117.497906  1.770635  627.395611  122.019189  194.091195 -11.883858   \n",
       "\n",
       "   conversion  \n",
       "0           0  \n",
       "1           0  \n",
       "2           0  \n",
       "3           0  \n",
       "4           0  \n",
       "\n",
       "[5 rows x 53 columns]"
      ]
     },
     "execution_count": 2,
     "metadata": {},
     "output_type": "execute_result"
    }
   ],
   "source": [
    "train = pd.read_csv('train.csv')\n",
    "train.head()"
   ]
  },
  {
   "cell_type": "code",
   "execution_count": 3,
   "id": "819ca98a",
   "metadata": {},
   "outputs": [
    {
     "data": {
      "text/html": [
       "<div>\n",
       "<style scoped>\n",
       "    .dataframe tbody tr th:only-of-type {\n",
       "        vertical-align: middle;\n",
       "    }\n",
       "\n",
       "    .dataframe tbody tr th {\n",
       "        vertical-align: top;\n",
       "    }\n",
       "\n",
       "    .dataframe thead th {\n",
       "        text-align: right;\n",
       "    }\n",
       "</style>\n",
       "<table border=\"1\" class=\"dataframe\">\n",
       "  <thead>\n",
       "    <tr style=\"text-align: right;\">\n",
       "      <th></th>\n",
       "      <th>id</th>\n",
       "      <th>treatment_group</th>\n",
       "      <th>X_1</th>\n",
       "      <th>X_2</th>\n",
       "      <th>X_3</th>\n",
       "      <th>X_4</th>\n",
       "      <th>X_5</th>\n",
       "      <th>X_6</th>\n",
       "      <th>X_7</th>\n",
       "      <th>X_8</th>\n",
       "      <th>...</th>\n",
       "      <th>X_41</th>\n",
       "      <th>X_42</th>\n",
       "      <th>X_43</th>\n",
       "      <th>X_44</th>\n",
       "      <th>X_45</th>\n",
       "      <th>X_46</th>\n",
       "      <th>X_47</th>\n",
       "      <th>X_48</th>\n",
       "      <th>X_49</th>\n",
       "      <th>X_50</th>\n",
       "    </tr>\n",
       "  </thead>\n",
       "  <tbody>\n",
       "    <tr>\n",
       "      <th>0</th>\n",
       "      <td>0</td>\n",
       "      <td>control</td>\n",
       "      <td>-21.671252</td>\n",
       "      <td>-0.621024</td>\n",
       "      <td>-2.842075</td>\n",
       "      <td>-51.831110</td>\n",
       "      <td>129.636266</td>\n",
       "      <td>-285.756326</td>\n",
       "      <td>-61.093746</td>\n",
       "      <td>138.041078</td>\n",
       "      <td>...</td>\n",
       "      <td>-38.413356</td>\n",
       "      <td>-24.451165</td>\n",
       "      <td>56.504067</td>\n",
       "      <td>-0.189278</td>\n",
       "      <td>10.272049</td>\n",
       "      <td>0.212921</td>\n",
       "      <td>75.886788</td>\n",
       "      <td>-110.414462</td>\n",
       "      <td>-16.709625</td>\n",
       "      <td>-0.703765</td>\n",
       "    </tr>\n",
       "    <tr>\n",
       "      <th>1</th>\n",
       "      <td>1</td>\n",
       "      <td>control</td>\n",
       "      <td>-34.686034</td>\n",
       "      <td>-1.151992</td>\n",
       "      <td>-22.665072</td>\n",
       "      <td>34.246181</td>\n",
       "      <td>-30.734256</td>\n",
       "      <td>-99.584956</td>\n",
       "      <td>-26.799190</td>\n",
       "      <td>-27.334872</td>\n",
       "      <td>...</td>\n",
       "      <td>-177.776349</td>\n",
       "      <td>8.018468</td>\n",
       "      <td>81.213517</td>\n",
       "      <td>-1.175417</td>\n",
       "      <td>15.345314</td>\n",
       "      <td>0.036785</td>\n",
       "      <td>205.736199</td>\n",
       "      <td>-54.989791</td>\n",
       "      <td>19.713818</td>\n",
       "      <td>-17.718764</td>\n",
       "    </tr>\n",
       "    <tr>\n",
       "      <th>2</th>\n",
       "      <td>2</td>\n",
       "      <td>treatment</td>\n",
       "      <td>69.048662</td>\n",
       "      <td>0.474066</td>\n",
       "      <td>9.736740</td>\n",
       "      <td>-25.494699</td>\n",
       "      <td>-9.600274</td>\n",
       "      <td>7.376884</td>\n",
       "      <td>-106.200077</td>\n",
       "      <td>39.657037</td>\n",
       "      <td>...</td>\n",
       "      <td>182.090805</td>\n",
       "      <td>-118.837053</td>\n",
       "      <td>-12.809603</td>\n",
       "      <td>0.398911</td>\n",
       "      <td>-53.774243</td>\n",
       "      <td>-0.586393</td>\n",
       "      <td>921.576204</td>\n",
       "      <td>311.032798</td>\n",
       "      <td>105.630100</td>\n",
       "      <td>0.919092</td>\n",
       "    </tr>\n",
       "    <tr>\n",
       "      <th>3</th>\n",
       "      <td>3</td>\n",
       "      <td>control</td>\n",
       "      <td>61.317519</td>\n",
       "      <td>1.296703</td>\n",
       "      <td>-34.345992</td>\n",
       "      <td>-17.611217</td>\n",
       "      <td>-38.021001</td>\n",
       "      <td>41.883604</td>\n",
       "      <td>-1.415220</td>\n",
       "      <td>-39.302033</td>\n",
       "      <td>...</td>\n",
       "      <td>3.848069</td>\n",
       "      <td>258.005558</td>\n",
       "      <td>-362.822718</td>\n",
       "      <td>0.660958</td>\n",
       "      <td>-138.455604</td>\n",
       "      <td>-0.904081</td>\n",
       "      <td>76.344359</td>\n",
       "      <td>57.461948</td>\n",
       "      <td>-289.542387</td>\n",
       "      <td>-37.721344</td>\n",
       "    </tr>\n",
       "    <tr>\n",
       "      <th>4</th>\n",
       "      <td>4</td>\n",
       "      <td>control</td>\n",
       "      <td>-76.204820</td>\n",
       "      <td>0.438070</td>\n",
       "      <td>-15.165489</td>\n",
       "      <td>-10.042479</td>\n",
       "      <td>22.548630</td>\n",
       "      <td>129.314238</td>\n",
       "      <td>71.800088</td>\n",
       "      <td>-125.207403</td>\n",
       "      <td>...</td>\n",
       "      <td>-207.931337</td>\n",
       "      <td>42.154019</td>\n",
       "      <td>-292.070142</td>\n",
       "      <td>-0.098644</td>\n",
       "      <td>66.842454</td>\n",
       "      <td>-1.072092</td>\n",
       "      <td>-1066.343927</td>\n",
       "      <td>-50.823453</td>\n",
       "      <td>-53.219431</td>\n",
       "      <td>-25.482573</td>\n",
       "    </tr>\n",
       "  </tbody>\n",
       "</table>\n",
       "<p>5 rows × 52 columns</p>\n",
       "</div>"
      ],
      "text/plain": [
       "   id treatment_group        X_1       X_2        X_3        X_4         X_5  \\\n",
       "0   0         control -21.671252 -0.621024  -2.842075 -51.831110  129.636266   \n",
       "1   1         control -34.686034 -1.151992 -22.665072  34.246181  -30.734256   \n",
       "2   2       treatment  69.048662  0.474066   9.736740 -25.494699   -9.600274   \n",
       "3   3         control  61.317519  1.296703 -34.345992 -17.611217  -38.021001   \n",
       "4   4         control -76.204820  0.438070 -15.165489 -10.042479   22.548630   \n",
       "\n",
       "          X_6         X_7         X_8  ...        X_41        X_42  \\\n",
       "0 -285.756326  -61.093746  138.041078  ...  -38.413356  -24.451165   \n",
       "1  -99.584956  -26.799190  -27.334872  ... -177.776349    8.018468   \n",
       "2    7.376884 -106.200077   39.657037  ...  182.090805 -118.837053   \n",
       "3   41.883604   -1.415220  -39.302033  ...    3.848069  258.005558   \n",
       "4  129.314238   71.800088 -125.207403  ... -207.931337   42.154019   \n",
       "\n",
       "         X_43      X_44        X_45      X_46         X_47        X_48  \\\n",
       "0   56.504067 -0.189278   10.272049  0.212921    75.886788 -110.414462   \n",
       "1   81.213517 -1.175417   15.345314  0.036785   205.736199  -54.989791   \n",
       "2  -12.809603  0.398911  -53.774243 -0.586393   921.576204  311.032798   \n",
       "3 -362.822718  0.660958 -138.455604 -0.904081    76.344359   57.461948   \n",
       "4 -292.070142 -0.098644   66.842454 -1.072092 -1066.343927  -50.823453   \n",
       "\n",
       "         X_49       X_50  \n",
       "0  -16.709625  -0.703765  \n",
       "1   19.713818 -17.718764  \n",
       "2  105.630100   0.919092  \n",
       "3 -289.542387 -37.721344  \n",
       "4  -53.219431 -25.482573  \n",
       "\n",
       "[5 rows x 52 columns]"
      ]
     },
     "execution_count": 3,
     "metadata": {},
     "output_type": "execute_result"
    }
   ],
   "source": [
    "test = pd.read_csv('test.csv')\n",
    "test.head()"
   ]
  },
  {
   "cell_type": "markdown",
   "id": "e35a6699",
   "metadata": {},
   "source": [
    "### cразу увидим, что в тесте для решения задачи у нас присутствует избыточная информация - факт коммуникации с абонентом. Эта информация не поможет нам решить задачу предсказания аплифта, но она поможет максимизировать Qini коэффициент, по которому производится оценка решения. Поэтому: "
   ]
  },
  {
   "cell_type": "markdown",
   "id": "d480b57e",
   "metadata": {},
   "source": [
    "## задача №2: использовать в тесте информацию о факте коммуникации с абонентом для того, чтобы увеличить Qini коэффициент"
   ]
  },
  {
   "cell_type": "markdown",
   "id": "c9fadae7",
   "metadata": {},
   "source": [
    "---"
   ]
  },
  {
   "cell_type": "markdown",
   "id": "8f613b9b",
   "metadata": {},
   "source": [
    "# Решение задачи №1"
   ]
  },
  {
   "cell_type": "markdown",
   "id": "199cbb1f",
   "metadata": {},
   "source": [
    "### 1) Conditional Independence Assumption:"
   ]
  },
  {
   "cell_type": "markdown",
   "id": "c16fe0c8",
   "metadata": {},
   "source": [
    "интуиция: проверяем, что тритмент действительно раздавали случайно"
   ]
  },
  {
   "cell_type": "code",
   "execution_count": 4,
   "id": "fb1128d0",
   "metadata": {},
   "outputs": [
    {
     "data": {
      "text/plain": [
       "0.49986500000000006"
      ]
     },
     "execution_count": 4,
     "metadata": {},
     "output_type": "execute_result"
    }
   ],
   "source": [
    "random_search = GridSearchCV(estimator= CatBoostClassifier(random_state=42, thread_count=-1, verbose=0),\n",
    "                             param_grid= {},\n",
    "                             scoring= 'f1_micro', \n",
    "                             cv= 3)\n",
    "random_search.fit(train.loc[:, ~train.columns.isin(['treatment_group','conversion'])], train['treatment_group'])\n",
    "random_search.best_score_"
   ]
  },
  {
   "cell_type": "markdown",
   "id": "995f3480",
   "metadata": {},
   "source": [
    "на основе признаков абонента классификатор допускает в среднем ошибки первого и второго рода так же часто (50%), как и угадывает верный ответ. Значит, коммуникация производилась действительно случайным образом."
   ]
  },
  {
   "cell_type": "markdown",
   "id": "df8f5180",
   "metadata": {},
   "source": [
    "### 2) Обучим одну модель с признаком коммуникации (подход S-Learner) ([ссылка на туториал](https://habr.com/ru/company/ru_mts/blog/485980/))"
   ]
  },
  {
   "cell_type": "markdown",
   "id": "e456f111",
   "metadata": {},
   "source": [
    "интуиция: модель обучается одновременно на двух группах, при этом бинарный флаг коммуникации выступает в качестве дополнительного признака. Каждый объект из тестовой выборки скорим дважды: с флагом коммуникации равным 1 и равным 0. Вычитая вероятности по каждому наблюдению, получим искомый uplift."
   ]
  },
  {
   "cell_type": "code",
   "execution_count": 5,
   "id": "13c44a6f",
   "metadata": {},
   "outputs": [],
   "source": [
    "train.treatment_group = train.treatment_group.map(lambda x: 0 if x == 'control' else 1)\n",
    "\n",
    "stratify_cols = pd.concat([train.treatment_group, train.conversion], axis=1)\n",
    "\n",
    "X_train, X_val, trmnt_train, trmnt_val, y_train, y_val = train_test_split(\n",
    "    train.drop(['treatment_group', 'conversion'],axis=1),\n",
    "    train.treatment_group,\n",
    "    train.conversion,\n",
    "    stratify=stratify_cols,\n",
    "    test_size=0.3,\n",
    "    random_state=42\n",
    ")\n",
    "\n",
    "estimator = CatBoostClassifier(\n",
    "                                random_state=42,\n",
    "                                thread_count=-1,\n",
    "                                verbose=0\n",
    "                            )\n",
    "slearner = SoloModel(estimator=estimator)\n",
    "slearner.fit(\n",
    "    X=X_train, \n",
    "    y=y_train, \n",
    "    treatment=trmnt_train\n",
    ")\n",
    "\n",
    "uplift_from_slearner = slearner.predict(X_val)"
   ]
  },
  {
   "cell_type": "code",
   "execution_count": 6,
   "id": "6286fa9a",
   "metadata": {},
   "outputs": [
    {
     "data": {
      "text/plain": [
       "<AxesSubplot:title={'center':'Qini curve\\nqini_auc_score=0.2460'}, xlabel='Number targeted', ylabel='Number of incremental outcome'>"
      ]
     },
     "execution_count": 6,
     "metadata": {},
     "output_type": "execute_result"
    },
    {
     "data": {
      "image/png": "[encoded data removed]",
      "text/plain": [
       "<Figure size 576x432 with 1 Axes>"
      ]
     },
     "metadata": {
      "needs_background": "light"
     },
     "output_type": "display_data"
    }
   ],
   "source": [
    "plot_qini_curve(y_val, uplift_from_slearner, trmnt_val, perfect=True)"
   ]
  },
  {
   "cell_type": "code",
   "execution_count": 7,
   "id": "dfdfe56b",
   "metadata": {},
   "outputs": [
    {
     "data": {
      "text/plain": [
       "0.24602170410125218"
      ]
     },
     "execution_count": 7,
     "metadata": {},
     "output_type": "execute_result"
    }
   ],
   "source": [
    "qini_auc_score(y_val, uplift_from_slearner, trmnt_val)"
   ]
  },
  {
   "cell_type": "markdown",
   "id": "f2a8e52a",
   "metadata": {},
   "source": [
    "---"
   ]
  },
  {
   "cell_type": "markdown",
   "id": "997d8e5b",
   "metadata": {},
   "source": [
    "# Решение задачи №2"
   ]
  },
  {
   "cell_type": "markdown",
   "id": "a02d770a",
   "metadata": {},
   "source": [
    "### 1) Формула построения кривой Qini ([ссылка на туториал](https://habr.com/ru/company/ru_mts/blog/538934/)) :"
   ]
  },
  {
   "cell_type": "markdown",
   "id": "b1bcafdf",
   "metadata": {},
   "source": [
    "\\begin{equation}qini\\ curve (t) = Y^T_t - \\frac{Y^C_t N^T_t}{N^C_t} \\\\ Y^T_t, Y^C_t - таргет\\ в\\ treatment\\ группе, таргет\\ в\\ control\\ группе \\\\ N^T_t, N^C_t - размер\\ treatment\\ группы, размер\\ control\\ группы \\end{equation}"
   ]
  },
  {
   "cell_type": "markdown",
   "id": "3030082c",
   "metadata": {},
   "source": [
    "Это кумулятивная функция, аргумент которой принимает значения от индекса первого элемента до последнего в датасете, отсортированном по убыванию предсказанного uplift. <br><b>Воспользуемся этим свойством:</b> нам выгодно, чтобы сначала шли элементы строго из treatment группы, а потом уже - элементы из control группы. Тогда кривая резко пойдёт вверх и гарантированно не будет убывать до тех пор, пока не начнутся абоненты из control.\n",
    "<br>Для этого вручную, без моделей, присвоим высокое значение uplift всем абонентам из treatment и низкое - всем из control."
   ]
  },
  {
   "cell_type": "code",
   "execution_count": 8,
   "id": "27da2dee",
   "metadata": {},
   "outputs": [],
   "source": [
    "stratify_cols = pd.concat([train.treatment_group, train.conversion], axis=1)\n",
    "\n",
    "X_train, X_val, trmnt_train, trmnt_val, y_train, y_val = train_test_split(\n",
    "    train.drop(['treatment_group', 'conversion'],axis=1),\n",
    "    train.treatment_group,\n",
    "    train.conversion,\n",
    "    stratify=stratify_cols,\n",
    "    test_size=0.3,\n",
    "    random_state=42\n",
    ")\n",
    "\n",
    "uplift_from_hack = [1 if x == 1 else -1 for x in trmnt_val]"
   ]
  },
  {
   "cell_type": "code",
   "execution_count": 9,
   "id": "e43b02d1",
   "metadata": {},
   "outputs": [
    {
     "data": {
      "text/plain": [
       "<AxesSubplot:title={'center':'Qini curve\\nqini_auc_score=0.5577'}, xlabel='Number targeted', ylabel='Number of incremental outcome'>"
      ]
     },
     "execution_count": 9,
     "metadata": {},
     "output_type": "execute_result"
    },
    {
     "data": {
      "image/png": "[encoded data removed]",
      "text/plain": [
       "<Figure size 576x432 with 1 Axes>"
      ]
     },
     "metadata": {
      "needs_background": "light"
     },
     "output_type": "display_data"
    }
   ],
   "source": [
    "plot_qini_curve(y_val, uplift_from_hack, trmnt_val, perfect=True)"
   ]
  },
  {
   "cell_type": "code",
   "execution_count": 10,
   "id": "bdde6619",
   "metadata": {},
   "outputs": [
    {
     "data": {
      "text/plain": [
       "0.5577109810450005"
      ]
     },
     "execution_count": 10,
     "metadata": {},
     "output_type": "execute_result"
    }
   ],
   "source": [
    "qini_auc_score(y_val, uplift_from_hack, trmnt_val)"
   ]
  },
  {
   "cell_type": "markdown",
   "id": "8b6c95c4",
   "metadata": {},
   "source": [
    "### 2) Комбинирование информации о коммуникации и предиктора конверсии"
   ]
  },
  {
   "cell_type": "markdown",
   "id": "54285004",
   "metadata": {},
   "source": [
    "В группе treatment есть как абоненты с истинным значением конверсии Y == 1, так и абоненты с Y==0. То же самое - в группе control. Согласно формуле кривой, нам выгодно, чтобы пользователи были отранжированы по предсказанному uplift в следующем порядке: <li>Абоненты из группы treatment с Y == 1 </li><li>Абоненты из группы treatment с Y == 0 </li><li>Абоненты из группы control с Y == 0 </li><li>Абоненты из группы control с Y == 1 </li> \n",
    "<br>Тогда кривая наберёт высоту ещё быстрее, чем в предыдущем подходе, и гарантированно не будет убывать до тех пор, пока не начнутся абоненты из control с Y==1.\n",
    "<br>Для этого присвоим вручную 4 значения uplift в зависимости от группы treatment/control и от полученного предсказания Y (т.е. conversion) по вектору признаков абонента (X,treatment_group) (колонка treatment_group, разумеется, поможет предсказать Y). Первым делом обучим такую модель:"
   ]
  },
  {
   "cell_type": "code",
   "execution_count": 11,
   "id": "68d03368",
   "metadata": {},
   "outputs": [],
   "source": [
    "stratify_cols = pd.concat([train.treatment_group, train.conversion], axis=1)\n",
    "\n",
    "X_train, X_val, y_train, y_val = train_test_split(\n",
    "    train.drop(['conversion'],axis=1),\n",
    "    train.conversion,\n",
    "    stratify=stratify_cols,\n",
    "    test_size=0.3,\n",
    "    random_state=42\n",
    ")\n",
    "\n",
    "model = CatBoostClassifier(\n",
    "                                random_state=42,\n",
    "                                thread_count=-1,\n",
    "                                verbose=0\n",
    "                            )\n",
    "model.fit(X_train, y_train)\n",
    "X_val['y_predict'] = model.predict(X_val)\n",
    "\n",
    "uplift_from_hack_and_model = X_val[['treatment_group', 'y_predict']].apply(lambda x: 1 if (x.treatment_group == 1)&(x.y_predict == 1) \n",
    "                                                                                       else (0.5  if (x.treatment_group == 1)&(x.y_predict == 0)\n",
    "                                                                                       else (-0.5  if (x.treatment_group == 0)&(x.y_predict == 0)\n",
    "                                                                                       else (-1  if (x.treatment_group == 0)&(x.y_predict == 1) else None)))\n",
    "                                                                            , axis=1)"
   ]
  },
  {
   "cell_type": "code",
   "execution_count": 12,
   "id": "4433fabd",
   "metadata": {},
   "outputs": [
    {
     "data": {
      "text/plain": [
       "<AxesSubplot:title={'center':'Qini curve\\nqini_auc_score=0.6902'}, xlabel='Number targeted', ylabel='Number of incremental outcome'>"
      ]
     },
     "execution_count": 12,
     "metadata": {},
     "output_type": "execute_result"
    },
    {
     "data": {
      "image/png": "[encoded data removed]",
      "text/plain": [
       "<Figure size 576x432 with 1 Axes>"
      ]
     },
     "metadata": {
      "needs_background": "light"
     },
     "output_type": "display_data"
    }
   ],
   "source": [
    "plot_qini_curve(y_val, uplift_from_hack_and_model, X_val['treatment_group'], perfect=True)"
   ]
  },
  {
   "cell_type": "code",
   "execution_count": 13,
   "id": "c79f6c0d",
   "metadata": {},
   "outputs": [
    {
     "data": {
      "text/plain": [
       "0.690248069129348"
      ]
     },
     "execution_count": 13,
     "metadata": {},
     "output_type": "execute_result"
    }
   ],
   "source": [
    "qini_auc_score(y_val, uplift_from_hack_and_model, X_val['treatment_group'])"
   ]
  },
  {
   "cell_type": "markdown",
   "id": "085363d2",
   "metadata": {},
   "source": [
    "---"
   ]
  },
  {
   "cell_type": "code",
   "execution_count": 14,
   "id": "e1916962",
   "metadata": {},
   "outputs": [],
   "source": [
    "test.treatment_group = test.treatment_group.map(lambda x: 0 if x == 'control' else 1)\n",
    "\n",
    "model = CatBoostClassifier(\n",
    "                                random_state=42,\n",
    "                                thread_count=-1,\n",
    "                                verbose=0\n",
    "                            )\n",
    "model.fit(train.drop(['conversion'],axis=1), train.conversion)\n",
    "test['y_predict'] = model.predict(test)\n",
    "test['pred'] = test[['treatment_group', 'y_predict']].apply(lambda x: 1 if (x.treatment_group == 1)&(x.y_predict == 1) \n",
    "                                                                                       else (0.5  if (x.treatment_group == 1)&(x.y_predict == 0)\n",
    "                                                                                       else (-0.5  if (x.treatment_group == 0)&(x.y_predict == 0)\n",
    "                                                                                       else (-1  if (x.treatment_group == 0)&(x.y_predict == 1) else None)))\n",
    "                                                                            , axis=1)\n",
    "test[['id', 'pred']].to_csv('submit_hack&model.csv', index=False)"
   ]
  }
 ],
 "metadata": {
  "kernelspec": {
   "display_name": "Python 3",
   "language": "python",
   "name": "python3"
  },
  "language_info": {
   "codemirror_mode": {
    "name": "ipython",
    "version": 3
   },
   "file_extension": ".py",
   "mimetype": "text/x-python",
   "name": "python",
   "nbconvert_exporter": "python",
   "pygments_lexer": "ipython3",
   "version": "3.8.8"
  }
 },
 "nbformat": 4,
 "nbformat_minor": 5
}
